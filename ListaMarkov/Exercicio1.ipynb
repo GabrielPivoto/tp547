{
 "cells": [
  {
   "cell_type": "code",
   "execution_count": 5,
   "id": "initial_id",
   "metadata": {
    "collapsed": true,
    "ExecuteTime": {
     "end_time": "2024-05-30T17:38:23.607564300Z",
     "start_time": "2024-05-30T17:35:18.220170700Z"
    }
   },
   "outputs": [
    {
     "name": "stdout",
     "output_type": "stream",
     "text": [
      "Probabilidade do rato morrer após 3 horas (simulação): 0.2226\n",
      "Número médio de passos para a absorção (simulação): 9.79\n"
     ]
    }
   ],
   "source": [
    "import numpy as np\n",
    "\n",
    "# Definindo a matriz de transição P\n",
    "P = np.array([\n",
    "    [0, 1/2, 1/2, 0, 0, 0],\n",
    "    [1/2, 0, 0, 1/2, 0, 0],\n",
    "    [1/3, 0, 0, 1/3, 1/3, 0],\n",
    "    [0, 1/3, 1/3, 0, 0, 1/3],\n",
    "    [0, 0, 1/2, 0, 0, 1/2],\n",
    "    [0, 0, 0, 0, 0, 1]\n",
    "])\n",
    "\n",
    "# Função para simular o movimento do rato\n",
    "def simularMovimentoRato(P, estadoInicial, estadoAbsorvente, numSimulacoes, numPassos=0, calcularMediaPassos=False):\n",
    "    contadorAbsorvente3h = 0\n",
    "    totalPassos = 0\n",
    "\n",
    "    for _ in range(numSimulacoes):\n",
    "        estado = estadoInicial\n",
    "        passos = 0\n",
    "        while True:\n",
    "            if estado == estadoAbsorvente:\n",
    "                if passos == numPassos:\n",
    "                    contadorAbsorvente3h += 1\n",
    "                if calcularMediaPassos:\n",
    "                    totalPassos += passos\n",
    "                break\n",
    "            if numPassos and passos == numPassos:\n",
    "                break\n",
    "            estado = np.random.choice(range(len(P)), p=P[estado])\n",
    "            passos += 1\n",
    "\n",
    "    probabilidade3h = contadorAbsorvente3h / numSimulacoes\n",
    "    mediaPassos = totalPassos / numSimulacoes if calcularMediaPassos else None\n",
    "\n",
    "    return probabilidade3h, mediaPassos\n",
    "\n",
    "# Parâmetros da simulação\n",
    "estadoInicial = 0\n",
    "estadoAbsorvente = 5\n",
    "numPassos = 3\n",
    "numSimulacoes = 1000000\n",
    "\n",
    "# Realizando a simulação para a probabilidade de morte após 3 horas\n",
    "probMorrer3HorasSimulacao, _ = simularMovimentoRato(P, estadoInicial, estadoAbsorvente, numSimulacoes, numPassos=numPassos)\n",
    "\n",
    "# Realizando a simulação para o número médio de passos para a absorção\n",
    "_, numMedioPassosAbsorcaoSimulacao = simularMovimentoRato(P, estadoInicial, estadoAbsorvente, numSimulacoes, calcularMediaPassos=True)\n",
    "\n",
    "print(f\"Probabilidade do rato morrer após 3 horas (simulação): {probMorrer3HorasSimulacao:.4f}\")\n",
    "print(f\"Número médio de passos para a absorção (simulação): {numMedioPassosAbsorcaoSimulacao:.2f}\")\n"
   ]
  },
  {
   "cell_type": "code",
   "execution_count": null,
   "outputs": [],
   "source": [],
   "metadata": {
    "collapsed": false
   },
   "id": "c8f999bc75d50672"
  }
 ],
 "metadata": {
  "kernelspec": {
   "display_name": "Python 3",
   "language": "python",
   "name": "python3"
  },
  "language_info": {
   "codemirror_mode": {
    "name": "ipython",
    "version": 2
   },
   "file_extension": ".py",
   "mimetype": "text/x-python",
   "name": "python",
   "nbconvert_exporter": "python",
   "pygments_lexer": "ipython2",
   "version": "2.7.6"
  }
 },
 "nbformat": 4,
 "nbformat_minor": 5
}
