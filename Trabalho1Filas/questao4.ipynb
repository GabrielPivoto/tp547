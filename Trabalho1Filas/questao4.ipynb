{
 "cells": [
  {
   "cell_type": "code",
   "execution_count": 4,
   "metadata": {},
   "outputs": [],
   "source": [
    "import numpy as np"
   ]
  },
  {
   "cell_type": "code",
   "execution_count": 5,
   "metadata": {},
   "outputs": [],
   "source": [
    "y = 1  # Taxa de chegada (lambda)\n",
    "mi = 5  # Taxa de atendimento (mu)\n",
    "tempo_simulacao = 50000  # Tempo total de simulação"
   ]
  },
  {
   "cell_type": "code",
   "execution_count": 7,
   "metadata": {},
   "outputs": [
    {
     "name": "stdout",
     "output_type": "stream",
     "text": [
      "Sistema em que o comprimento das mensagens é constante:\n",
      "Tempo médio no Sistema E[tq] = 224.8820 ms.\n",
      "\n",
      "Sistema em que o comprimento das mensagens é exponencial:\n",
      "Tempo médio no Sistema E[tq] = 249.9960 ms.\n",
      "\n"
     ]
    }
   ],
   "source": [
    "for comprimento in ['constante', 'exponencial']:\n",
    "    \n",
    "    Eq, Es = 0, 1  # Elementos na fila e no servidor\n",
    "    ta = np.random.exponential(1/y)  # Chegada inicial\n",
    "\n",
    "    if comprimento == 'exponencial':\n",
    "        td = np.random.exponential(1/mi)  # Partida inicial exponencial\n",
    "    else:\n",
    "        td = 1/mi  # Partida inicial constante\n",
    "\n",
    "    tempoChegadas = [0]\n",
    "    tempoPartidas = []\n",
    "    tempoSistema = []\n",
    "    t = min(ta, td)\n",
    "    k = 0  # Número de partidas\n",
    "\n",
    "    while t < tempo_simulacao:\n",
    "        if ta < td:  # Próximo evento é uma chegada\n",
    "            tempoChegadas.append(t)\n",
    "            ta = t + np.random.exponential(1/y)  # Gera nova chegada\n",
    "\n",
    "            if Es == 1:  # Se o servidor estiver ocupado\n",
    "                Eq += 1  # Aumenta o número de elementos na fila\n",
    "            else:  # Se o servidor estiver ocioso\n",
    "                Es = 1  # Ocupa o servidor livre\n",
    "                if comprimento == 'exponencial':\n",
    "                    td = t + np.random.exponential(1/mi)  # Gera nova partida exponencial\n",
    "                else:\n",
    "                    td = t + 1/mi  # Gera nova partida constante\n",
    "        else:  # Próximo evento é uma partida\n",
    "            k += 1\n",
    "            tempoPartidas.append(t)\n",
    "\n",
    "            if Eq > 0:  # Se existem elementos na fila\n",
    "                Eq -= 1  # Diminui o número de elementos na fila\n",
    "                if comprimento == 'exponencial':\n",
    "                    td = t + np.random.exponential(1/mi)  # Gera nova partida exponencial\n",
    "                else:\n",
    "                    td = t + 1/mi  # Gera nova partida constante\n",
    "            else:\n",
    "                Es = 0  # Servidor vazio\n",
    "                td = np.inf  # Define partida como infinito\n",
    "\n",
    "            tempoSistema.append(tempoPartidas[-1] - tempoChegadas[k-1])\n",
    "\n",
    "        t = min(ta, td)  # Ocorrência do próximo evento\n",
    "\n",
    "    # Cálculo dos resultados\n",
    "    Etq = np.mean(tempoSistema)\n",
    "\n",
    "    print(f'Sistema em que o comprimento das mensagens é {comprimento}:')\n",
    "    print(f'Tempo médio no Sistema E[tq] = {Etq * 1000:.4f} ms.\\n')"
   ]
  }
 ],
 "metadata": {
  "kernelspec": {
   "display_name": "Python 3",
   "language": "python",
   "name": "python3"
  },
  "language_info": {
   "codemirror_mode": {
    "name": "ipython",
    "version": 3
   },
   "file_extension": ".py",
   "mimetype": "text/x-python",
   "name": "python",
   "nbconvert_exporter": "python",
   "pygments_lexer": "ipython3",
   "version": "3.12.2"
  }
 },
 "nbformat": 4,
 "nbformat_minor": 2
}
