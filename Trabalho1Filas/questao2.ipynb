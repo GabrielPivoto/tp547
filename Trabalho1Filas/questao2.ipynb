{
 "cells": [
  {
   "cell_type": "code",
   "execution_count": 1,
   "metadata": {},
   "outputs": [],
   "source": [
    "import numpy as np"
   ]
  },
  {
   "cell_type": "code",
   "execution_count": 2,
   "metadata": {},
   "outputs": [],
   "source": [
    "y = 40  # Taxa de chegada (lambda)\n",
    "mi = 1 / 0.01  # Taxa de atendimento (mu)\n",
    "tempo_simulacao = 1000  # Tempo total de simulação\n",
    "Eq, Es = 0, 1  # Elementos na Fila e no Servidor\n",
    "ta = np.random.exponential(1/y)  # Próxima chegada\n",
    "td = np.random.exponential(1/mi) # Próxima partida\n",
    "tempoChegadas = [0]\n",
    "tempoPartidas = []\n",
    "tempoSistema = []\n",
    "t = min(ta, td)\n",
    "k = 0  # Número de partidas"
   ]
  },
  {
   "cell_type": "code",
   "execution_count": 3,
   "metadata": {},
   "outputs": [],
   "source": [
    "while t < tempo_simulacao:\n",
    "    if ta < td:  # Próximo evento é uma chegada\n",
    "        tempoChegadas.append(t)\n",
    "        ta = t + np.random.exponential(1/y)  # Gera nova chegada\n",
    "\n",
    "        if Es == 1:  # Se o servidor estiver ocupado\n",
    "            Eq += 1  # Aumenta o número de elementos na fila\n",
    "        else:  # Se o servidor estiver ocioso\n",
    "            Es = 1  # Ocupa o servidor livre\n",
    "            td = t + np.random.exponential(1/mi)  # Gera nova partida\n",
    "    else:  # Próximo evento é uma partida\n",
    "        k += 1\n",
    "        tempoPartidas.append(t)\n",
    "\n",
    "        if Eq > 0:  # Se existem elementos na fila\n",
    "            Eq -= 1  # Diminui o número de elementos na fila\n",
    "            td = t + np.random.exponential(1/mi)  # Gera nova partida\n",
    "        else:  # Se não há pacotes na fila\n",
    "            Es = 0  # Servidor vazio\n",
    "            td = np.inf  # Define partida como infinito\n",
    "\n",
    "        tempoSistema.append(tempoPartidas[-1] - tempoChegadas[k-1])\n",
    "    \n",
    "    t = min(ta, td)  # Ocorrência do próximo evento\n",
    "\n",
    "Etw = np.mean(tempoSistema) - 1/mi\n",
    "Etq = np.mean(tempoSistema)"
   ]
  },
  {
   "cell_type": "code",
   "execution_count": 5,
   "metadata": {},
   "outputs": [
    {
     "name": "stdout",
     "output_type": "stream",
     "text": [
      "E[tw] (tempo médio de espera na fila) = 6.7023 ms\n",
      "E[tq] (tempo médio no sistema) = 16.7023 ms\n"
     ]
    }
   ],
   "source": [
    "print(f'E[tw] (tempo médio de espera na fila) = {Etw * 1000:.4f} ms')\n",
    "print(f'E[tq] (tempo médio no sistema) = {Etq * 1000:.4f} ms')"
   ]
  }
 ],
 "metadata": {
  "kernelspec": {
   "display_name": "Python 3",
   "language": "python",
   "name": "python3"
  },
  "language_info": {
   "codemirror_mode": {
    "name": "ipython",
    "version": 3
   },
   "file_extension": ".py",
   "mimetype": "text/x-python",
   "name": "python",
   "nbconvert_exporter": "python",
   "pygments_lexer": "ipython3",
   "version": "3.12.2"
  }
 },
 "nbformat": 4,
 "nbformat_minor": 2
}
