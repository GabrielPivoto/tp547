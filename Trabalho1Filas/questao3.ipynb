{
 "cells": [
  {
   "cell_type": "code",
   "execution_count": 2,
   "metadata": {},
   "outputs": [],
   "source": [
    "import numpy as np"
   ]
  },
  {
   "cell_type": "code",
   "execution_count": 3,
   "metadata": {},
   "outputs": [],
   "source": [
    "y = 200  # Taxa de chegada (lambda)\n",
    "mi = 250  # Taxa de atendimento (mu)\n",
    "tempo_simulacao = 1000  # Tempo total de simulação"
   ]
  },
  {
   "cell_type": "code",
   "execution_count": 7,
   "metadata": {},
   "outputs": [
    {
     "name": "stdout",
     "output_type": "stream",
     "text": [
      "Para sistema com buffer de capacidade 1:\n",
      "Número médio de elementos no sistema Eq = 0.8513\n",
      "Tempo médio no sistema Etq = 5.7596 ms\n",
      "Probabilidade de bloqueio Pb = 0.2610\n",
      "\n",
      "Para sistema com buffer de capacidade 5:\n",
      "Número médio de elementos no sistema Eq = 2.1365\n",
      "Tempo médio no sistema Etq = 11.4254 ms\n",
      "Probabilidade de bloqueio Pb = 0.0650\n",
      "\n",
      "Para sistema com buffer de capacidade 10:\n",
      "Número médio de elementos no sistema Eq = 3.0937\n",
      "Tempo médio no sistema Etq = 15.7630 ms\n",
      "Probabilidade de bloqueio Pb = 0.0187\n",
      "\n",
      "Para sistema com buffer de capacidade 15:\n",
      "Número médio de elementos no sistema Eq = 3.6186\n",
      "Tempo médio no sistema Etq = 18.2017 ms\n",
      "Probabilidade de bloqueio Pb = 0.0060\n",
      "\n"
     ]
    }
   ],
   "source": [
    "for J in [1, 5, 10, 15]:\n",
    "    \n",
    "    t = 0  # Instante inicial\n",
    "    k = 0  # Número de partidas\n",
    "    Eq = 0  # Número de elementos na fila\n",
    "    Es = 1  # Estado do servidor (1=ocupado, 0=ocioso)\n",
    "    Pb = 0  # Número de elementos bloqueados\n",
    "    chegadas = 0  # Número de chegadas\n",
    "\n",
    "    ta = np.random.exponential(1/y)  # Chegada inicial\n",
    "    td = np.random.exponential(1/mi)  # Partida inicial\n",
    "    t = min(ta, td)  # Próxima ocorrência de evento\n",
    "    tempoChegadas = [0]\n",
    "    tempoPartidas = []\n",
    "    tempoSistema = []\n",
    "\n",
    "    while t < tempo_simulacao:\n",
    "        if ta < td:  # Próximo evento é uma chegada\n",
    "            chegadas += 1  # Contabiliza uma chegada\n",
    "            ta = t + np.random.exponential(1/y)  # Gera a próxima chegada\n",
    "\n",
    "            if Es == 1:  # Se o servidor estiver ocupado\n",
    "                if Eq == J:\n",
    "                    Pb += 1  # Elemento bloqueado se o buffer estiver cheio\n",
    "                else:\n",
    "                    Eq += 1  # Aumenta o número de elementos na fila\n",
    "                    tempoChegadas.append(t)\n",
    "            else:  # Se o servidor estiver ocioso\n",
    "                Es = 1  # Ocupa o servidor livre\n",
    "                td = t + np.random.exponential(1/mi)  # Gera a próxima partida\n",
    "                tempoChegadas.append(t)\n",
    "        else:  # Próximo evento é uma partida\n",
    "            k += 1\n",
    "            tempoPartidas.append(t)\n",
    "\n",
    "            if Eq > 0:  # Se existem elementos na fila\n",
    "                Eq -= 1  # Decrementa a fila\n",
    "                td = t + np.random.exponential(1/mi)  # Gera a próxima partida\n",
    "            else:\n",
    "                Es = 0  # Servidor vazio\n",
    "                td = np.inf  # Define partida como infinito\n",
    "\n",
    "            tempoSistema.append(tempoPartidas[-1] - tempoChegadas[k-1])\n",
    "        \n",
    "        t = min(ta, td)  # Ocorrência do próximo evento\n",
    "\n",
    "    rho = y / mi\n",
    "    Pb_prob = Pb / chegadas\n",
    "    Etw = np.mean(tempoSistema) - 1/mi\n",
    "    Etq = np.mean(tempoSistema)\n",
    "    Ew = y * Etw * (1 - Pb_prob)\n",
    "    Eq_mean = y * Etq * (1 - Pb_prob)\n",
    "\n",
    "    print(f'Para sistema com buffer de capacidade {J}:')\n",
    "    print(f'Número médio de elementos no sistema Eq = {Eq_mean:.4f}')\n",
    "    print(f'Tempo médio no sistema Etq = {Etq * 1000:.4f} ms')\n",
    "    print(f'Probabilidade de bloqueio Pb = {Pb_prob:.4f}\\n')"
   ]
  }
 ],
 "metadata": {
  "kernelspec": {
   "display_name": "Python 3",
   "language": "python",
   "name": "python3"
  },
  "language_info": {
   "codemirror_mode": {
    "name": "ipython",
    "version": 3
   },
   "file_extension": ".py",
   "mimetype": "text/x-python",
   "name": "python",
   "nbconvert_exporter": "python",
   "pygments_lexer": "ipython3",
   "version": "3.12.2"
  }
 },
 "nbformat": 4,
 "nbformat_minor": 2
}
