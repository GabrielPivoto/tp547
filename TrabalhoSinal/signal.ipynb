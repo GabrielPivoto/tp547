{
 "cells": [
  {
   "cell_type": "markdown",
   "metadata": {},
   "source": [
    "### Fazer dois códigos python:\n",
    "\n",
    "- Um código para criação de um sinal 4-pam;\n",
    "- Um código para demodução do sinal 4 -pam, considerar que o sinal passou por um canal ruidoso."
   ]
  },
  {
   "cell_type": "code",
   "execution_count": 1,
   "metadata": {},
   "outputs": [],
   "source": [
    "import numpy as np\n",
    "import matplotlib.pyplot as plt"
   ]
  },
  {
   "cell_type": "code",
   "execution_count": 2,
   "metadata": {},
   "outputs": [],
   "source": [
    "#Função que cria um sianl 4-pam, a partir do parâmetro bits (no caso uma string)\n",
    "def create_signal_4pam(bits):\n",
    "    #Dicionário para fazer o mapeamento dos bits para o sinal\n",
    "    mapping = {\n",
    "        '00': -3,\n",
    "        '01': -1,\n",
    "        '10': 1,\n",
    "        '11': 3\n",
    "    }\n",
    "    #Inicializa-se um array vazio onde será armazenado o sinal de resposta. A string de bits será percorrida com passo 2 (já que o mapeamento é feito em 2 bits).\n",
    "    #A cada 2 bits, o valor correspondente é armazenado no array\n",
    "    signal = []\n",
    "    for i in range(0, len(bits), 2):\n",
    "        symbol = bits[i:i+2]\n",
    "        signal.append(mapping[symbol])\n",
    "    #Retornamos o array como numpy array\n",
    "    return np.array(signal)"
   ]
  },
  {
   "cell_type": "code",
   "execution_count": 7,
   "metadata": {},
   "outputs": [
    {
     "data": {
      "image/png": "[encoded data removed]",
      "text/plain": [
       "<Figure size 640x480 with 1 Axes>"
      ]
     },
     "metadata": {},
     "output_type": "display_data"
    }
   ],
   "source": [
    "#Definindo uma sequencia aleatoria de bits para ser convertido no sinal\n",
    "bits = '001101101010'\n",
    "#Variável que armazena o resultadao da conversão da função criada acima \n",
    "signal = create_signal_4pam(bits)\n",
    "\n",
    "#Plotando o sinal obrido\n",
    "plt.stem(signal, linefmt='b-', markerfmt='bo', basefmt=' ')\n",
    "plt.title('Sinal 4-PAM')\n",
    "plt.xlabel('Amostra')\n",
    "plt.ylabel('Amplitude')\n",
    "plt.grid(True)\n",
    "plt.show()"
   ]
  },
  {
   "cell_type": "code",
   "execution_count": 4,
   "metadata": {},
   "outputs": [],
   "source": [
    "#Função que faz a demodulação do sinal em uma sequencia de bits(processo contrario da função anterior)\n",
    "#Parametros são o sinal (numpy array) a ser demodulado e uma variancia de ruido para ser adicionado ao sinal\n",
    "#Retorno é uma sequencia de bits que representa a demodulação do sinal\n",
    "def demodulate_siganl_4pam(signal, noise_variance):\n",
    "    #Dicionário para fazer o mapeamento do sinal em bits\n",
    "    demapping = {\n",
    "        -3: '00',\n",
    "        -1: '01',\n",
    "        1: '10',\n",
    "        3: '11'\n",
    "    }\n",
    "    \n",
    "    #Criando uma string vazia para armazenar o resultado\n",
    "    received_bits = ''\n",
    "    #Usamos um foreach para percorrer o array do sinal\n",
    "    for sample in signal:\n",
    "        #Para cada amostra, adicionamos ruído gaussiano\n",
    "        received_sample = sample + np.random.normal(scale=np.sqrt(noise_variance))\n",
    "        #Encontramos o símbolo mais próximo\n",
    "        closest_symbol = min(demapping.keys(), key=lambda x: abs(x - received_sample))\n",
    "        #Adicionamos a string o resultado da operação de mapeamento\n",
    "        received_bits += demapping[closest_symbol]\n",
    "    \n",
    "    return received_bits"
   ]
  },
  {
   "cell_type": "code",
   "execution_count": 13,
   "metadata": {},
   "outputs": [
    {
     "name": "stdout",
     "output_type": "stream",
     "text": [
      "Sequência de bits demodulada: 001101101010\n"
     ]
    }
   ],
   "source": [
    "#Criando uma variável que irá receber o resultado do mapeamento do sinal criando anteriormente\n",
    "received_bits= demodulate_siganl_4pam(signal, noise_variance=0.5)\n",
    "print(\"Sequência de bits demodulada:\", received_bits)"
   ]
  }
 ],
 "metadata": {
  "kernelspec": {
   "display_name": "Python 3",
   "language": "python",
   "name": "python3"
  },
  "language_info": {
   "codemirror_mode": {
    "name": "ipython",
    "version": 3
   },
   "file_extension": ".py",
   "mimetype": "text/x-python",
   "name": "python",
   "nbconvert_exporter": "python",
   "pygments_lexer": "ipython3",
   "version": "3.12.2"
  }
 },
 "nbformat": 4,
 "nbformat_minor": 2
}
