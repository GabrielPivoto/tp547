{
 "cells": [
  {
   "cell_type": "markdown",
   "id": "b7a27e35766de169",
   "metadata": {
    "collapsed": false
   },
   "source": [
    "# 3) Você paga 1 real e pode lançar quatro dados. Se a soma dos olhos nos dados for inferior a 9, recebe de volta r reais, caso contrário perde investimento de 1 reais. Suponha que r = 10. Você vai, então, a longo prazo, ganhar ou perder dinheiro ao jogar este jogo?"
   ]
  },
  {
   "cell_type": "code",
   "execution_count": 15,
   "id": "55b13568",
   "metadata": {},
   "outputs": [],
   "source": [
    "import random"
   ]
  },
  {
   "cell_type": "code",
   "execution_count": 16,
   "id": "961ebb11",
   "metadata": {},
   "outputs": [],
   "source": [
    "\"\"\"\n",
    "Método que simula uma única jogada\n",
    "\n",
    "Para cada um dos 4 dados (for _ in range (4)), é sorteado um valor de 1 a 6 (random.randint(1,6)), o que simula 4 dados sendo jogados\n",
    "Calcula-se a soma dessas 4 fazes (sum), e armazenamos na variável soma\n",
    "Varifica-se se esta soma é menor que 9, se sim devolve os 10 conto, senmão devolve -1 indicando falha\n",
    "\"\"\"\n",
    "def jogar_jogo():\n",
    "    soma = sum(random.randint(1, 6) for _ in range(4))\n",
    "    if soma < 9:\n",
    "        return 10\n",
    "    else:\n",
    "        return -1"
   ]
  },
  {
   "cell_type": "code",
   "execution_count": 17,
   "id": "0657ade6",
   "metadata": {},
   "outputs": [],
   "source": [
    "\"\"\"\n",
    "Método que simula um total de num_jogos\n",
    "Desta forma pode-se verificar se a longo prazo o jogo vale a pena ou não\n",
    "Se o resultado deste método for positivo, pode-se afirmar que a longo prazo o jogador irá ganhar dinheiro\n",
    "Caso contrário, ele sairá perdendo\n",
    "\n",
    "Dado o parâmetro num_jogos que indica quantas vezes o jogo será jogdado, o método jogar_jogo() é chamado\n",
    "A variável total_ganhos é inicializada com 0 para indicar o quanto o jogador irá ganhar a longo prazo\n",
    "Para cada jogada, o valor retornado de jogar_jogo() é armazenado em total_ganhos, indicando os ganhos do jogador\n",
    "O valor médio, calculado pelo ganho total dividido pelo número de jogos é retornado\n",
    "\"\"\"\n",
    "def simular_jogos(num_jogos):\n",
    "    total_ganhos = 0\n",
    "    for _ in range(num_jogos):\n",
    "        total_ganhos += jogar_jogo()\n",
    "    return total_ganhos / num_jogos"
   ]
  },
  {
   "cell_type": "code",
   "execution_count": 18,
   "id": "363c5fc7",
   "metadata": {},
   "outputs": [],
   "source": [
    "\"\"\"\n",
    "Método que calcula a probabilidade de ganhar dinheiro ao longo de num_jogos jogos\n",
    "\n",
    "Inicializamos a variável soma_menor_9 com 0\n",
    "Esta variável indica quantas vezes, ao longo de num_jogos, a soma dos dados foi menor que 9\n",
    "Chamamos a função jogar_jogo() num_jogos vezes\n",
    "Verificamos se o retorno foi 10 (o que indica que a soma das faces dos 4 dados foi menor que 9)\n",
    "Se sim incremetamos em 1 unidada a variável soma_menor_9\n",
    "A probabilidade é calculada pela quantidade de sucessos (soma_menor_9) pela quantidade de vezes jogadas (num_jogos)\n",
    "\"\"\"\n",
    "def calcular_probabilidade(num_jogos):\n",
    "    soma_menor_9 = 0\n",
    "    for _ in range(num_jogos):\n",
    "        if jogar_jogo() == 10:\n",
    "            soma_menor_9 += 1\n",
    "    return soma_menor_9 / num_jogos"
   ]
  },
  {
   "cell_type": "code",
   "execution_count": 19,
   "id": "35935c89",
   "metadata": {},
   "outputs": [
    {
     "name": "stdout",
     "output_type": "stream",
     "text": [
      "Resultado médio por jogo ao longo de 1000000 jogos: -0.408508\n",
      "Probabilidade da soma ser menor que 9 ao longo de 1000000 jogos é: 5.41%\n"
     ]
    }
   ],
   "source": [
    "num_jogos = 1000000\n",
    "resultado_medio = simular_jogos(num_jogos)\n",
    "probabilidade = calcular_probabilidade(num_jogos)\n",
    "\n",
    "print(\"Resultado médio por jogo ao longo de\", num_jogos, \"jogos:\", resultado_medio)\n",
    "print(\"Probabilidade da soma ser menor que 9 ao longo de {} jogos é: {:.2f}%\".format(num_jogos, probabilidade*100))"
   ]
  },
  {
   "cell_type": "markdown",
   "id": "4de22faf",
   "metadata": {},
   "source": [
    "### Em vista dos resultados apresentados acima, podemos observar que o resultado médio por jogo é de aproximadamente -0,4. Sendo este um resultado negativo, pode-se afirmar que o jogador irá perder dinheiro no longo prazo. Além disso, pode-se constatar, também com os resultados apresentados acima, que a probailidade de vencer no jogo é de apenas 5,41%. Sendo assim, a probabilidade de não vencer pode ser calculada por 100% - 5,41%. Desta forma, a probabilidade do jogador não vencer ao longo de num_jogos é de 94,59%. Esses fatores indicam que a chance de perder dinheiro é muito maior do que a de ganhar "
   ]
  }
 ],
 "metadata": {
  "kernelspec": {
   "display_name": "Python 3",
   "language": "python",
   "name": "python3"
  },
  "language_info": {
   "codemirror_mode": {
    "name": "ipython",
    "version": 3
   },
   "file_extension": ".py",
   "mimetype": "text/x-python",
   "name": "python",
   "nbconvert_exporter": "python",
   "pygments_lexer": "ipython3",
   "version": "3.12.2"
  }
 },
 "nbformat": 4,
 "nbformat_minor": 5
}
