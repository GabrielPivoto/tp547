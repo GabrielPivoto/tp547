{
 "cells": [
  {
   "cell_type": "markdown",
   "source": [
    "# 3) Você paga 1 real e pode lançar quatro dados. Se a soma dos olhos nos dados for inferior a 9, recebe de volta r reais, caso contrário perde investimento de 1 reais. Suponha que r = 10. Você vai, então, a longo prazo, ganhar ou perder dinheiro ao jogar este jogo?"
   ],
   "metadata": {
    "collapsed": false
   },
   "id": "b7a27e35766de169"
  }
 ],
 "metadata": {
  "kernelspec": {
   "display_name": "Python 3",
   "language": "python",
   "name": "python3"
  },
  "language_info": {
   "codemirror_mode": {
    "name": "ipython",
    "version": 2
   },
   "file_extension": ".py",
   "mimetype": "text/x-python",
   "name": "python",
   "nbconvert_exporter": "python",
   "pygments_lexer": "ipython2",
   "version": "2.7.6"
  }
 },
 "nbformat": 4,
 "nbformat_minor": 5
}
