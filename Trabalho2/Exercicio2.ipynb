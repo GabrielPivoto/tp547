{
 "cells": [
  {
   "cell_type": "markdown",
   "source": [
    "# 2) Faça um programa para estimar a probabilidade de obter pelo menos um dado com seis ao lançar 5 dados."
   ],
   "metadata": {
    "collapsed": false
   },
   "id": "55e832883ba518b1"
  },
  {
   "cell_type": "code",
   "execution_count": null,
   "outputs": [],
   "source": [
    "import numpy as np\n",
    "import matplotlib.pyplot as plt"
   ],
   "metadata": {
    "collapsed": false
   },
   "id": "61bbc628b7faa5d5"
  }
 ],
 "metadata": {
  "kernelspec": {
   "display_name": "Python 3",
   "language": "python",
   "name": "python3"
  },
  "language_info": {
   "codemirror_mode": {
    "name": "ipython",
    "version": 2
   },
   "file_extension": ".py",
   "mimetype": "text/x-python",
   "name": "python",
   "nbconvert_exporter": "python",
   "pygments_lexer": "ipython2",
   "version": "2.7.6"
  }
 },
 "nbformat": 4,
 "nbformat_minor": 5
}
