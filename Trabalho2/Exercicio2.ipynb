{
 "cells": [
  {
   "cell_type": "markdown",
   "id": "55e832883ba518b1",
   "metadata": {
    "collapsed": false
   },
   "source": [
    "# 2) Faça um programa para estimar a probabilidade de obter pelo menos um dado com seis ao lançar 5 dados."
   ]
  },
  {
   "cell_type": "code",
   "execution_count": 8,
   "id": "61bbc628b7faa5d5",
   "metadata": {
    "collapsed": false
   },
   "outputs": [],
   "source": [
    "import random"
   ]
  },
  {
   "cell_type": "code",
   "execution_count": 10,
   "id": "dde2fdee",
   "metadata": {},
   "outputs": [],
   "source": [
    "\"\"\"\n",
    "Método que simula o lançamento de dados de acordo com o parâmetro n_dados\n",
    "\n",
    "Assim, de acordo com o número de dados, é gerada uma lista de números aleatórios\n",
    "Verifica-se a presença do número 6 nessa lista, em caso positivo, retornamos True, senão False\n",
    "\"\"\"\n",
    "def simular_lancamento_de_dados(n_dados):\n",
    "    dados = [random.randint(1, 6) for _ in range(n_dados)]\n",
    "    if 6 in dados:\n",
    "         return True\n",
    "    return False\n"
   ]
  },
  {
   "cell_type": "code",
   "execution_count": 11,
   "id": "3075544a",
   "metadata": {},
   "outputs": [],
   "source": [
    "\"\"\"\n",
    "Método que calcula a probabilidade de ocorrer a face 6 em n_dados (lançamentos), num total de n_simulações\n",
    "\n",
    "Este método cria um contador inicializado em 0\n",
    "Dado o número de n_simulações, o método simular_lancamento_de_dados é chamado, passando o número de lançamentos\n",
    "Se o retorno for positivo, incremeta-se de uma unidade o contador\n",
    "A probabilidade é o resultado da divisão do contador pelo número de simulações\n",
    "\"\"\"\n",
    "def calcular_probabilidade(n_dados, n_simulacoes = 100000):\n",
    "    contador = 0\n",
    "    for _ in range(n_simulacoes):\n",
    "        if simular_lancamento_de_dados(n_dados):\n",
    "            contador += 1\n",
    "    return  contador / n_simulacoes"
   ]
  },
  {
   "cell_type": "code",
   "execution_count": 13,
   "id": "b9519c0e",
   "metadata": {},
   "outputs": [
    {
     "name": "stdout",
     "output_type": "stream",
     "text": [
      "Probabilidade de obter pelo menos um dado com seis: 59.62%\n"
     ]
    }
   ],
   "source": [
    "n_simulacoes = 100000\n",
    "n_dados = 5\n",
    "\n",
    "probabilidade = calcular_probabilidade(n_dados, n_simulacoes)\n",
    "print(\"Probabilidade de obter pelo menos um dado com seis: {:.2f}%\".format(probabilidade*100))"
   ]
  }
 ],
 "metadata": {
  "kernelspec": {
   "display_name": "Python 3",
   "language": "python",
   "name": "python3"
  },
  "language_info": {
   "codemirror_mode": {
    "name": "ipython",
    "version": 3
   },
   "file_extension": ".py",
   "mimetype": "text/x-python",
   "name": "python",
   "nbconvert_exporter": "python",
   "pygments_lexer": "ipython3",
   "version": "3.12.2"
  }
 },
 "nbformat": 4,
 "nbformat_minor": 5
}
