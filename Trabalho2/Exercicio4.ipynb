{
 "cells": [
  {
   "cell_type": "markdown",
   "source": [
    "# 4) Resova as seguintes integrais pelo método da integração de monte carlo e pelo método da integração por importância."
   ],
   "metadata": {
    "collapsed": false
   },
   "id": "a393a19c57337776"
  },
  {
   "cell_type": "markdown",
   "source": [
    "### a) I = ∫ (1-x^2)^{3/2}dx"
   ],
   "metadata": {
    "collapsed": false
   },
   "id": "37c04855c5f16e6c"
  },
  {
   "cell_type": "markdown",
   "source": [
    "### b) I = ∫ exp (x + x^2)dx"
   ],
   "metadata": {
    "collapsed": false
   },
   "id": "40c241644ffb5a1a"
  },
  {
   "cell_type": "markdown",
   "source": [
    "### c) I = ∫ x(1 + x^2)^{-2}dx"
   ],
   "metadata": {
    "collapsed": false
   },
   "id": "fc6f5763d820fbd"
  }
 ],
 "metadata": {
  "kernelspec": {
   "display_name": "Python 3",
   "language": "python",
   "name": "python3"
  },
  "language_info": {
   "codemirror_mode": {
    "name": "ipython",
    "version": 2
   },
   "file_extension": ".py",
   "mimetype": "text/x-python",
   "name": "python",
   "nbconvert_exporter": "python",
   "pygments_lexer": "ipython2",
   "version": "2.7.6"
  }
 },
 "nbformat": 4,
 "nbformat_minor": 5
}
