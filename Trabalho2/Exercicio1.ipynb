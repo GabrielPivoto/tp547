{
 "cells": [
  {
   "cell_type": "markdown",
   "source": [
    "# 1) Suponha que haja 40 bolas em um chapéu, das quais 10 são vermelhas, 10 são azuis, 10 são amarelas e 10 são roxas. Qual é a probabilidade de obter duas bolas azuis e duas roxas ao tirar 10 bolas aleatoriamente do chapéu? O que muda no resultado caso a bola seja retirada e não reposta."
   ],
   "metadata": {
    "collapsed": false
   },
   "id": "48e9b288810e14a3"
  },
  {
   "cell_type": "code",
   "execution_count": null,
   "outputs": [],
   "source": [],
   "metadata": {
    "collapsed": false
   },
   "id": "240deefc17eba84b"
  }
 ],
 "metadata": {
  "kernelspec": {
   "display_name": "Python 3",
   "language": "python",
   "name": "python3"
  },
  "language_info": {
   "codemirror_mode": {
    "name": "ipython",
    "version": 2
   },
   "file_extension": ".py",
   "mimetype": "text/x-python",
   "name": "python",
   "nbconvert_exporter": "python",
   "pygments_lexer": "ipython2",
   "version": "2.7.6"
  }
 },
 "nbformat": 4,
 "nbformat_minor": 5
}
