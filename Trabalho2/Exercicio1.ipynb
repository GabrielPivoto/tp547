{
 "cells": [
  {
   "cell_type": "markdown",
   "source": [
    "# 1) Suponha que haja 40 bolas em um chapéu, das quais 10 são vermelhas, 10 são azuis, 10 são amarelas e 10 são roxas. Qual é a probabilidade de obter duas bolas azuis e duas roxas ao tirar 10 bolas aleatoriamente do chapéu? O que muda no resultado caso a bola seja retirada e não reposta."
   ],
   "metadata": {
    "collapsed": false
   },
   "id": "48e9b288810e14a3"
  },
  {
   "cell_type": "code",
   "execution_count": 12,
   "outputs": [
    {
     "name": "stdout",
     "output_type": "stream",
     "text": [
      "Probabilidade estimada com reposição: 0.076962\n",
      "Probabilidade estimada sem reposição: 0.092755\n"
     ]
    }
   ],
   "source": [
    "import random\n",
    "from collections import Counter\n",
    "\n",
    "\n",
    "total_bolas = 40\n",
    "bolas_vermelhas = 10\n",
    "bolas_azuis = 10\n",
    "bolas_amarelas = 10\n",
    "bolas_roxas = 10\n",
    "num_tentativas = 1000000\n",
    "\n",
    "\n",
    "def selecao_com_reposicao():\n",
    "    chapeu_total = [random.choice(['azul', 'roxa', 'amarela', 'vermelha']) for _ in range(10)]\n",
    "    chapeu_selecionadas = Counter(chapeu_total)\n",
    "    return chapeu_selecionadas['azul'] == 2 and chapeu_selecionadas['roxa'] == 2\n",
    "\n",
    "sucessos_com_reposicao = sum(selecao_com_reposicao() for _ in range(num_tentativas))\n",
    "probabilidade_estimada_com_reposicao = sucessos_com_reposicao / num_tentativas\n",
    "print(\"Probabilidade estimada com reposição:\", probabilidade_estimada_com_reposicao)\n",
    "\n",
    "\n",
    "def selecao_sem_reposicao():\n",
    "    chapeu_total = ['azul'] * bolas_azuis + ['roxa'] * bolas_roxas + ['amarela'] * bolas_amarelas + ['vermelha'] * bolas_vermelhas\n",
    "    chapeu_selecionadas = random.sample(chapeu_total, 10)\n",
    "    return chapeu_selecionadas.count('azul') == 2 and chapeu_selecionadas.count('roxa') == 2\n",
    "\n",
    "sucessos = sum(selecao_sem_reposicao() for _ in range(num_tentativas))\n",
    "probabilidade_sem_reposicao = sucessos / num_tentativas\n",
    "print(\"Probabilidade estimada sem reposição:\", probabilidade_sem_reposicao)"
   ],
   "metadata": {
    "collapsed": false,
    "ExecuteTime": {
     "end_time": "2024-03-29T17:07:51.890172300Z",
     "start_time": "2024-03-29T17:07:45.187154300Z"
    }
   },
   "id": "240deefc17eba84b"
  },
  {
   "cell_type": "code",
   "execution_count": null,
   "outputs": [],
   "source": [
    "#O que muda no resultado caso a bola seja retirada e não reposta?\n",
    "# Com reposição: A bola é devolvida ao chapéu e poderá ser retirada novamente.\n",
    "# Sem reposição: A bola não é devolvida ao chapeu e não poderá ser retirada novamente.\n",
    "\n",
    "# Com reposição, a probabilidade de selecionar qualquer bola é a mesma em todas as tentativas já que todas as bolas têm a mesma chance de serem selecionadas, já sem reposição, a probabilidade de selecionar qualquer bola muda após cada tentativa. Essa diferença pode ser vista nas funções: selecao_com_reposicao() e selecao_sem_reposicao(). \n",
    "# Em selecao_com_reposicao() é escolhido uma bola aleatória (random.choice) e após cada seleção não há lógica para evitar que a bola seja escolhida novamente. Depois o número de ocorrências de cada cor (azul e roxa) são contados (Counter).\n",
    "# Em selecao_sem_reposicao() é selecionado uma amostra de 10 bolas sem reposição (random.sample) e verificado se exatamente duas bolas (azul e roxa) foram selecionadas.\n"
   ],
   "metadata": {
    "collapsed": false
   },
   "id": "d8f84e366b209c3"
  }
 ],
 "metadata": {
  "kernelspec": {
   "display_name": "Python 3",
   "language": "python",
   "name": "python3"
  },
  "language_info": {
   "codemirror_mode": {
    "name": "ipython",
    "version": 2
   },
   "file_extension": ".py",
   "mimetype": "text/x-python",
   "name": "python",
   "nbconvert_exporter": "python",
   "pygments_lexer": "ipython2",
   "version": "2.7.6"
  }
 },
 "nbformat": 4,
 "nbformat_minor": 5
}
